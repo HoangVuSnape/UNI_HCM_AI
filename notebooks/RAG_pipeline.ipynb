{
  "cells": [
    {
      "cell_type": "code",
      "execution_count": null,
      "metadata": {
        "id": "pIiMtT7BsJhH"
      },
      "outputs": [],
      "source": [
        "!pip install -q langchain-qdrant\n",
        "!pip install -q qdrant-client\n",
        "!pip install -q langchain\n",
        "!pip install -q langchain-community\n",
        "!pip install -q unstructured\n",
        "!pip install -q transformers\n",
        "!pip install -q sentence-transformers\n",
        "!pip install -q langchain_huggingface"
      ]
    },
    {
      "cell_type": "code",
      "execution_count": null,
      "metadata": {
        "colab": {
          "background_save": true
        },
        "id": "TwVnEqwauQ7b"
      },
      "outputs": [],
      "source": [
        "from langchain.document_loaders import DirectoryLoader\n",
        "from langchain_community.document_loaders import TextLoader\n",
        "from langchain.vectorstores import Qdrant\n",
        "from qdrant_client import QdrantClient\n",
        "from langchain_qdrant import QdrantVectorStore\n",
        "from google.colab import userdata\n",
        "import os\n",
        "from langchain.embeddings import HuggingFaceEmbeddings\n",
        "import pandas as pd\n",
        "from langchain_text_splitters import RecursiveCharacterTextSplitter\n",
        "from typing import List\n",
        "from langchain.docstore.document import Document\n"
      ]
    },
    {
      "cell_type": "code",
      "execution_count": null,
      "metadata": {
        "id": "l3tDZK76Bfb7"
      },
      "outputs": [],
      "source": [
        "url = \"https://1390ac05-4421-4fc6-8798-05032e7abad2.us-east4-0.gcp.cloud.qdrant.io\"\n",
        "api = \"02n1zyvj8zLx0xaAPk-_pbVSVIq4sFXVUbfMWzl3mCHJdkpTHMn3Cw\""
      ]
    },
    {
      "cell_type": "code",
      "execution_count": null,
      "metadata": {
        "id": "OXuGJt3PuYr4"
      },
      "outputs": [],
      "source": [
        "embedding_model = HuggingFaceEmbeddings(\n",
        "     model_name=\"dangvantuan/vietnamese-document-embedding\",\n",
        "     model_kwargs={\"trust_remote_code\": True}  # Add this parameter\n",
        ")"
      ]
    },
    {
      "cell_type": "code",
      "source": [
        "from qdrant_client import QdrantClient\n",
        "from langchain_huggingface import HuggingFaceEmbeddings\n",
        "from langchain_qdrant import QdrantVectorStore\n",
        "import os\n",
        "from pathlib import Path\n",
        "from dotenv import load_dotenv\n",
        "load_dotenv(Path(\"./.env\"))\n",
        "\n",
        "embedding_model = HuggingFaceEmbeddings(\n",
        "    model_name=\"dangvantuan/vietnamese-document-embedding\",\n",
        "    model_kwargs={\"trust_remote_code\": True}\n",
        "    )\n",
        "\n",
        "client = QdrantClient(\n",
        "     url=url,\n",
        "     api_key=api,\n",
        "     prefer_grpc=False\n",
        ")\n",
        "\n",
        "vector_store = QdrantVectorStore(\n",
        "               client=client,\n",
        "               collection_name=\"TDTU\",\n",
        "               embedding=embedding_model\n",
        "          )\n",
        "query = \"Chỉ tiêu tuyển sinh TDTU 2022\"\n",
        "docs = vector_store.similarity_search(query, k= 3)\n",
        "print(docs)\n",
        "\n"
      ],
      "metadata": {
        "colab": {
          "base_uri": "https://localhost:8080/"
        },
        "id": "Es4jPT3eOwYq",
        "outputId": "715e7809-cfbb-4a28-ba81-b3d42e497d20"
      },
      "execution_count": null,
      "outputs": [
        {
          "output_type": "stream",
          "name": "stdout",
          "text": [
            "[Document(metadata={'source': 'Admission\\\\TDTU\\\\2022_tuyển sinh.md', '_id': '89cacdb3-ee4b-41ee-9105-7f6923d29fec', '_collection_name': 'TDTU'}, page_content='PHƯƠNG ÁN TUYỂN SINH ĐẠI HỌC NĂM 2022\\n\\nTrường Đại học Tôn Đức Thắng (TDTU) dự kiến tuyển sinh khoảng 6.500 chỉ tiêu trình độ đại học năm 2022; bao gồm 40 ngành Chương trình tiêu chuẩn, 17 ngành Chương trình chất lượng cao, 12 ngành Chương trình đại học bằng tiếng Anh, 07 ngành chương trình học tại phân hiệu Khánh Hòa và 11 ngành Chương trình liên kết đào tạo quốc tế. Nhà trường dự kiến triển khai tuyển sinh đại học năm 2022 theo 05 phương thức:\\n\\nPhương thức 1: Xét tuyển theo kết quả quá trình học tập THPT\\n\\nPhương thức 2. Xét tuyển theo kết quả thi tốt nghiệp THPT năm 2022\\n\\nPhương thức 3. Ưu tiên xét tuyển theo quy định của TDTU\\n\\nPhương thức 4: Xét tuyển thẳng, ưu tiên xét tuyển theo Quy chế tuyển sinh của Bộ GD&ĐT\\n\\nPhương thức 5: Xét tuyển theo kết quả bài thi đánh giá năng lực của Đại học Quốc gia Thành phố Hồ Chí Minh.'), Document(metadata={'source': 'Admission\\\\TDTU\\\\2022_điểm chuẩn.md', '_id': '2009cd4b-4642-4a48-aca4-1fb116f8149b', '_collection_name': 'TDTU'}, page_content='1. Điểm trúng tuyển\\n\\nPhương thức xét tuyển theo kết quả học tập THPT – Đợt 2 (PT1-Đ2), ưu tiên xét tuyển theo quy định của TDTU dành cho học sinh trường chuyên trên cả nước và một số trường trọng điểm ở TP.HCM – Đợt 2 (PT3-ĐT1-Đ2); ưu tiên xét tuyển theo quy định của TDTU dành cho học sinh có chứng chỉ tiếng Anh quốc tế tương đương IELTS 5.0 trở lên – Đợt 2 (PT3-ĐT2-Đ2): Điểm xét tuyển được thực hiện theo đúng đề án tuyển sinh đại học năm 2022, thang điểm 40 và được làm tròn đến 02 chữ số thập phân (đã bao gồm điểm ưu tiên khu vực, đối tượng, hệ số trường THPT, điểm ưu tiên thành tích học sinh giỏi). Phương thức xét tuyển theo điểm thi THPT năm 2022 (PT2): Điểm xét tuyển được thực hiện theo đúng đề án tuyển sinh đại học năm 2022, là tổng điểm của 3 môn theo tổ hợp (có nhân hệ số môn theo tổ hợp, ngành xét tuyển theo thang điểm 40), cộng với điểm ưu tiên khu vực, đối tượng theo thang điểm 40 (nếu có), được làm tròn đến 2 chữ số thập phân theo quy định của Bộ GD&ĐT. Phương thức xét tuyển theo điểm thi đánh giá năng lực của Đại học Quốc gia TP.HCM năm 2022 (PT5): Điểm xét tuyển được thực hiện theo đúng đề án tuyển sinh đại học năm 2022 theo thang điểm 1200 (đã bao gồm điểm ưu tiên khu vực, đối tượng theo thang điểm 1200)\\n\\nPhương thức xét tuyển theo kết quả học tập THPT -Đợt 1 (PT1-Đ1) và ưu tiên xét tuyển theo quy định của TDTU đợt 1 (PT3-Đ1), điểm trúng tuyển theo thông báo Kết quả sơ tuyển PT1, PT3-ĐT1 các ngành trình độ đại học chính quy 2022-Đợt 1 ngày 30/6/2022 của HĐTS Trường. Bảng điểm trúng tuyển theo các phương thức như sau: Here\\'s the updated table based on your additional data. I\\'ve kept the structure consistent, with the text \"HHMT≥6.0\" moved to the \"Điểm TT PT5\" column where relevant:\\n\\nSTT Mã ngành Tên ngành Điểm TT PT1-Đ2 Điểm TT PT2 Điểm TT PT3-ĐT1-Đ2 Điểm TT PT3-ĐT2-Đ2 Điểm TT PT5 Chương trình tiêu chuẩn 1 7210402 Thiết kế công nghiệp 26.5 23 30 650 HHMT≥6.0 2 7210403 Thiết kế đồ họa 29.5 27 32 700 HHMT≥6.0 3 7210404 Thiết kế thời trang 26.5 24 30 650 HHMT≥6.0 4 7220201 Ngôn ngữ Anh 37 34 36 800 5 7220204 Ngôn ngữ Trung Quốc 37 33 35 800 6 7310301 Xã hội học 31.5 28.5 31 650 7 7310630 Việt Nam học (Chuyên ngành: Du lịch và lữ hành) 34 31.8 33 700 8 7310630Q Việt Nam học (Chuyên ngành: Du lịch và quản lý du lịch) 34 31.8 33 700 9 7340101 Quản trị kinh doanh (Chuyên ngành: Quản trị nguồn nhân lực) 37 33.6 36 800 10 7340101N Quản trị kinh doanh (Chuyên ngành: Quản trị nhà hàng - khách sạn) 35.75 30.5 35 800 11 7340115 Marketing 37.75 34.8 37 870 12 7340120 Kinh doanh quốc tế 37.5 34.5 37 870 13 7340201 Tài chính - Ngân hàng 36.75 33.6 35.25 750 14 7340301 Kế toán 36 33.3 34.25 720 15 7340408 Quan hệ lao động (Chuyên ngành Quản lý Quan hệ lao động, Chuyên ngành Hành vi tổ chức) 28 27 31 700 16 7380101 Luật 36.5 33.5 35.5 720 17 7420201 Công nghệ sinh học 33.5 26.5 32 680 18 7440301 Khoa học môi trường 26 22 31 650 19 7460112 Toán ứng dụng 31.5 31.1 31 680 20 7460201 Thống kê 28 29.1 31 680 21 7480101 Khoa học máy tính 38 35 35 850 22 7480102 Mạng máy tính và truyền thông dữ liệu 36.25 34.5 32.5 800 23 7480103 Kỹ thuật phần mềm 38 35.4 35.5 850 24 7510406 Công nghệ kỹ thuật môi trường (Chuyên ngành Cấp thoát nước và môi trường nước) 26 22 30 650 25 7520114 Kỹ thuật cơ điện tử 33 28.5 32 680 26 7520201 Kỹ thuật điện 31 27.5 32 650 27 7520207 Kỹ thuật điện tử - viễn thông 31 29.5 32 650 28 7520216 Kỹ thuật điều khiển và tự động hóa 33 31.7 32 680 29 7520301 Kỹ thuật hóa học 34 28.5 32 680 30 7580101 Kiến trúc 28 26 32 680 HHMT≥6.0 31 7580105 Quy hoạch vùng và đô thị 27 23 30 650 32 7580108 Thiết kế nội thất 27 24 32 650 HHMT≥6.0 33 7580201 Kỹ thuật xây dựng 29 25 32 650 34 7580205 Kỹ thuật xây dựng công trình giao thông 27 23 30 650 35 7720201 Dược học 36 HSG lớp 12 33.2 HSG lớp 12 800 HSG lớp 12 36 7760101 Công tác xã hội 27 25.3 30 650 37 7810301 Quản lý thể dục thể thao (Chuyên ngành kinh doanh thể thao và tổ chức sự kiện) 31.5 27 30 650 38 7810302 Golf 27 23 30 650 39 7850201 Bảo hộ lao động 27 23 30 650  CHƯƠNG TRÌNH CHẤT LƯỢNG CAO 1 F7210403 Thiết kế đồ họa - Chương trình Chất lượng cao 26.5 23 30 650 HHMT≥6.0 2 F7220201 Ngôn ngữ Anh – Chương trình Chất lượng cao 34 29.9 32 700 3 F7310630Q Việt Nam học (Chuyên ngành Du lịch và Quản lý du lịch) - Chương trình Chất lượng cao 27 27 32 650 4 F7340101 Quản trị kinh doanh (Chuyên ngành: Quản trị nguồn nhân lực) - Chương trình Chất lượng cao 35.5 32.7 33 700 5 F7340101N Quản trị kinh doanh (Chuyên ngành: Quản trị nhà hàng - khách sạn) - Chương trình Chất lượng cao 33 29.1 32 700 6 F7340115 Marketing - Chương trình Chất lượng cao 36 33.5 35 750 7 F7340120 Kinh doanh quốc tế - Chương trình Chất lượng cao 36.5 32.8 36 750 8 F7340201 Tài chính - Ngân hàng - Chương trình Chất lượng cao 33 30.1 32 700 9 F7340301 Kế toán - Chương trình Chất lượng cao 31 29.2 32 650 10 F7380101 Luật - Chương trình Chất lượng cao 32 32.1 32 650 11 F7420201 Công nghệ sinh học - Chương trình Chất lượng cao 27 22 30 650 12 F7480101 Khoa học máy tính - Chương trình Chất lượng cao 36.25 34.5 32 800 13 F7480103 Kỹ thuật phần mềm - Chương trình Chất lượng cao 36.25 34.5 32 800 14 F7520201 Kỹ thuật điện - Chương trình Chất lượng cao 27 22 30 650 15 F7520207 Kỹ thuật điện tử - viễn thông - Chương trình Chất lượng cao 27 22 30 650 16 F7520216 Kỹ thuật điều khiển và tự động hóa - Chương trình Chất lượng cao 27 25 30 650 17 F7580201 Kỹ thuật xây dựng - Chương trình Chất lượng cao 27 22 30 650  CHƯƠNG TRÌNH ĐẠI HỌC BẰNG TIẾNG ANH\\n\\nYêu cầu về tiếng Anh đầu vào:\\n\\nThí sinh nước ngoài ở các nước có ngôn ngữ chính là tiếng Anh không yêu cầu Chứng chỉ tiếng Anh đầu vào quốc tế;\\n\\nThí sinh Việt Nam và thí sinh ở các nước không có ngôn ngữ chính là tiếng Anh: phải có Chứng chỉ IELTS 5.0 trở lên hoặc tương đương (có giá trị từ ngày 01/10/2020 và còn giá trị đến ngày 01/10/2022); hoặc phải dự thi đánh giá năng lực tiếng Anh bằng Hệ thống đánh giá năng lực tiếng Anh theo chuẩn quốc tế của TDTU để được xác nhận đủ điều kiện tiếng Anh theo học chương trình (trừ Ngành ngôn ngữ Anh phải có chứng chỉ tiếng Anh quốc tế tương đương IELTS 5.0 trở lên theo quy định). Trường hợp số lượng học viên nhập học đủ điều kiện học chính thức ít hơn sĩ số tối thiểu để mở lớp, người học được tư vấn để bảo lưu kết quả tuyển sinh, hoặc chuyển qua các ngành/chương trình khác (nếu đáp ứng được tiêu chí tuyển đầu vào của ngành/chương trình đó). Chương trình đại học bằng tiếng Anh:\\n\\nSTT Mã ngành Tên ngành Điểm TT PT1-Đ2 Điểm TT PT2 Điểm TT PT3-ĐT1-Đ2 Điểm TT PT3-ĐT2-Đ2 Điểm TT PT5 1 FA7220201 Ngôn ngữ Anh – Chương trình đại học bằng tiếng Anh 32 25 30 34.5 700 2 FA7310630Q Việt Nam học (Chuyên ngành Du lịch và Quản lý du lịch) - Chương trình đại học bằng tiếng Anh 28 24 28 28 650 3 FA7340101N Quản trị kinh doanh (Chuyên ngành: Quản trị nhà hàng - khách sạn) - Chương trình đại học bằng tiếng Anh 30 27 30 30 650 4 FA7340115 Marketing - Chương trình đại học bằng tiếng Anh 34 27 32 36 700 5 FA7340120 Kinh doanh quốc tế - Chương trình đại học bằng tiếng Anh 34 27 32 36 700 6 FA7340201 Tài chính ngân hàng - Chương trình đại học bằng tiếng Anh 28 24 28 28 650 7 FA7340301 Kế toán (Chuyên ngành: Kế toán quốc tế) - Chương trình đại học bằng tiếng Anh 28 24 28 28 650 8 FA7420201 Công nghệ sinh học - Chương trình đại học bằng tiếng Anh 28 24 28 28 650 9 FA7480101 Khoa học máy tính - Chương trình đại học bằng tiếng Anh 30 24 30 30 650 10 FA7480103 Kỹ thuật phần mềm - Chương trình đại học bằng tiếng Anh 30 24 30 30 650 11 FA7520216 Kỹ thuật điều khiển và tự động hóa - Chương trình đại học bằng tiếng Anh 28 24 28 28 650 12 FA7580201 Kỹ thuật xây dựng - Chương trình đại học bằng tiếng Anh 28 24 28 28 650\\n\\nChương trình học tại Phân hiệu Khánh Hòa:\\n\\nSTT Mã ngành Tên ngành Điểm TT PT1-Đ2 Điểm TT PT2 Điểm TT PT3-ĐT1-Đ2 Điểm TT PT3-ĐT2-Đ2 Điểm TT PT5 1 N7220201 Ngôn ngữ Anh - Chương trình học Phân hiệu Khánh Hòa 28 24 31 650 2 N7310630 Việt Nam học (Chuyên ngành: Du lịch và lữ hành) - Chương trình học Phân hiệu Khánh Hòa 27 22 30 650 3 N7340101N Quản trị kinh doanh, Chuyên ngành: Quản trị nhà hàng - khách sạn - Chương trình học Phân hiệu Khánh Hòa 29 24 31 650 4 N7340115 Marketing - Chương trình học Phân hiệu Khánh Hòa 29 24 31 650 5 N7340301 Kế toán - Chương trình học Phân hiệu Khánh Hòa 27 22 30 650 6 N7380101 Luật - Chương trình học Phân hiệu Khánh Hòa 27 22 30 650 7 N7480103 Kỹ thuật phần mềm - Chương trình học Phân hiệu Khánh Hòa 27 22 31 650 CHƯƠNG TRÌNH LIÊN KẾT QUỐC TẾ\\n\\nYêu cầu về tiếng Anh đầu vào:\\n\\nThí sinh phải đạt trình độ tiếng Anh đầu vào từ B2 trở lên hoặc tương đương để được công nhận trúng tuyển vào chương trình chính thức.Thí sinh có thể nộp chứng chỉ IELTS 5.5 hoặc các chứng chỉ quốc tế tương đương để xét tiếng Anh đầu vào; hoặc phải dự thi đánh giá năng lực tiếng Anh đầu khóa bằng Hệ thống đánh giá năng lực tiếng Anh theo chuẩn quốc tế của TDTU để được xác nhận đủ điều kiện tiếng Anh theo học chương trình. Ngoại lệ:\\n\\nNếu tiếng Anh chưa đạt chuẩn B2, nhưng người học vẫn muốn học chương trình liên kết đào tạo quốc tế, thì được xét vào chương trình dự bị tiếng Anh (liên kết quốc tế) và phải tham gia học bổ túc tiếng Anh tại TDTU cho đến khi đạt trình độ tương đương chuẩn nói trên để được “quyết định nhập học và công nhận là sinh viên”. Thời gian học tiếng Anh tối đa là 2 năm và tùy năng lực đầu vào qua kết quả đánh giá đầu vào xếp lớp của TDTU. Sau thời gian học chương trình dự bị tiếng Anh, nếu vẫn chưa đạt chuẩn tiếng Anh trình độ B2 hoặc tương đương; người học phải thôi học hoặc có thể xin chuyển sang các chương trình khác (nếu vẫn bảo đảm được các tiêu chí tuyển sinh đầu vào tương ứng của các ngành/chương trình này theo đúng năm tuyển sinh ). Trường hợp số lượng học viên nhập học đủ điều kiện học chính thức ít hơn sĩ số tối thiểu để mở lớp, người học được tư vấn để bảo lưu kết quả tuyển sinh, hoặc chuyển qua các ngành/chương trình khác (nếu đáp ứng được tiêu chí tuyển đầu vào của ngành/chương trình đó). STT Mã ngành Tên ngành Điểm TT PT1-Đ2 Điểm TT PT2 Điểm TT PT3-ĐT1-Đ2 Điểm TT PT3-ĐT2-Đ2 Điểm TT PT5 1 K7340101 Quản trị kinh doanh (song bằng, 2+2) - Chương trình liên kết Đại học Kinh tế Praha (Cộng hòa Séc) 28 24 28 28 650 2 K7340101N Quản trị nhà hàng khách sạn (song bằng, 2.5+1.5) - Chương trình liên kết Đại học Taylor\\'s (Malaysia) 28 24 28 28 650 3 K7340120 Quản trị kinh doanh quốc tế (đơn bằng, 3+1) - Chương trình liên kết Đại học Khoa học và công nghệ Lunghwa (Đài Loan) 28 24 28 28 650 4 K7340201 Tài chính (song bằng, 2+2) - Chương trình liên kết Đại học Feng Chia (Đài Loan) 28 24 28 28 650 5 K7340201S Tài chính (đơn bằng, 3+1) - Chương trình liên kết Đại học Khoa học và công nghệ Lunghwa (Đài Loan) 28 24 28 28 650 6 K7340201X Tài chính và kiểm soát (song bằng, 3+1) - Chương trình liên kết Đại học Khoa học ứng dụng Saxion (Hà Lan) 28 24 28 28 650 7 K7340301 Kế toán (song bằng, 3+1) - Chương trình liên kết Đại học West of England, Bristol (Anh) 28 24 28 28 650 8 K7480101 Khoa học máy tính & Công nghệ tin học (đơn bằng, 2+2) - Chương trình liên kết Đại học Khoa học và công nghệ Lunghwa (Đài Loan) 28 24 28 28 650 9 K7480101L Công nghệ thông tin (song bằng, 2+2) - Chương trình liên kết Đại học La Trobe (Úc) 28 24 28 28 650 10 K7520201 Kỹ thuật điện – điện tử (song bằng, 2.5+1.5) - Chương trình liên kết Đại học Khoa học ứng dụng Saxion (Hà Lan) 28 24 28 28 650 11 K7580201 Kỹ thuật xây dựng (song bằng, 2+2) - Chương trình liên kết Đại học La Trobe (Úc) 28 24 28 28 650 Đính kèm phụ lục điểm trúng tuyển chi tiết theo từng phương thức\\n\\nPhụ lục điểm trúng tuyển chi tiết phương thức 1-đợt 2 (tại đây)\\n\\nPhụ lục điểm trúng tuyển chi tiết phương thức 2 (tại đây)\\n\\nPhụ lục điểm trúng tuyển chi tiết phương thức 3-đợt 2 (tại đây)\\n\\nThí sinh tra cứu kết quả trúng tuyển từ 17h ngày 17/9/2022 tại website https://tracuuxettuyen.tdtu.edu.vn\\n\\nLưu ý: Thí sinh đủ điểm trúng tuyển của TDTU công bố nhưng không có trong danh sách trúng tuyển chính thức có thể do thí sinh đã đăng ký không chính xác nguyện vọng trên hệ thống Bộ GD&ĐT hoặc đã trúng tuyển ở nguyện vọng khác có thứ tự ưu tiên cao hơn.'), Document(metadata={'source': 'Admission\\\\TDTU\\\\2023_tuyển sinh.md', '_id': '6bee7307-c3c5-4e39-859c-ad053f4cc002', '_collection_name': 'TDTU'}, page_content='d. Nguyên tắc xét tuyển: xét theo thang điểm 40. Điểm ưu tiên (khu vực, đối tượng) theo quy định của Bộ GD&ĐT quy về thang điểm 40. Công bố kết quả sơ tuyển: ngày 08/07/2023. Học sinh Trường THPT ký kết:\\n\\nĐXT2.1 = 0,6 ĐXT05HK + 0,4 4* Điểm phiên theo chứng chỉ tiếng Anh quốc tế + Điểm khuyến khích học tập cho thành tích học sinh giỏi (nếu có) + Điểm khuyến khích hệ số trường THPT (nếu có) + Điểm ưu tiên khu vực, đối tượng (nếu có). Học sinh Trường THPT chưa ký kết:\\n\\nĐXT2.2= 0,6 ĐXT06HK + 0,4 4* Điểm phiên theo chứng chỉ tiếng Anh quốc tế + Điểm khuyến khích học tập cho thành tích học sinh giỏi (nếu có) + Điểm khuyến khích hệ số trường THPT (nếu có) + Điểm ưu tiên khu vực, đối tượng (nếu có). Trong đó:\\n\\nĐXT05HK = (ĐTBHK1 L10 + ĐTBHK2 L10 + ĐTBHK1 L11 + ĐTBHK2 L11 + ĐTBHK1 L12)*4/5\\n\\nĐXT06HK = (ĐTBHK1 L10 + ĐTBHK2 L10 + ĐTBHK1 L11 + ĐTBHK2 L11 + ĐTBHK1 L12+ ĐTBHK2 L12)*2/3\\n\\ne. Thời gian đăng ký:\\n\\nĐối với Trường THPT ký kết: từ 01/04 - 20/06/2023\\n\\nĐối với học sinh Trường THPT chưa ký kết: từ 01/06 - 20/06/2023. Ngày 21 - 22/06/2023, thí sinh điều chỉnh nguyện vọng và thí sinh xét tuyển 5HK cập nhật học lực lớp 12. Thí sinh nộp hồ sơ về TDTU: từ ngày 15/04 - 17h00 ngày 23/06/2023 _(tính theo dấu bưu điện)\\n\\nf. Hồ sơ xét tuyển:\\n\\nPhiếu đăng ký (In phiếu sau khi đăng ký xét tuyển trực tuyến và ký tên, không cần đóng dấu xác nhận của Trường THPT)\\n\\nBản photo chứng chỉ tiếng Anh quốc tế theo quy định\\n\\nBản photo các hồ sơ minh chứng ưu tiên (nếu có)\\n\\nBản photo chứng nhận đạt thành tích học sinh giỏi (nếu có)\\n\\nChi phí xét tuyển 20.000 đồng/nguyện vọng (TDTU không hoàn lại chi phí xét tuyển) hoặc biên lai nộp tiến (nếu thí sinh nộp qua ngân hàng). Địa chỉ nộp hồ sơ: Phòng Đại học (A005) Trường Đại học Tôn Đức Thắng, Số 19 Nguyễn Hữu Thọ, P. Tân Phong, Q.7, TP.HCM. Danh mục các ngành và điều kiện nộp hồ sơ xét tuyển (xem tại đây)\\n\\nQuy định chứng chỉ tiếng Anh quốc tế tương đương (xem tại đây)\\n\\nDanh mục chia môn/lĩnh vực đạt giải được cộng điểm khuyến khích học tập theo ngành (xem tại đây)\\n\\nLưu ý: Thí sinh có chứng chỉ IELTS 5.0 xét tuyển vào chương trình liên kết quốc tế sẽ học chương trình dự bị tiếng Anh. 4.3. Đối tượng 3: Thí sinh tốt nghiệp THPT tại nước ngoài (3.1); Thí sinh học chương trình quốc tế tại các trường quốc tế ở Việt Nam (3.2); Thí sinh có chứng chỉ SAT, A-Level, IB, AC__T (3.3)\\n\\nThí sinh tốt nghiệp THPT năm 2021, 2022, 2023 ưu tiên xét tuyển vào chương trình đại học bằng tiếng Anh, chương trình liên kết quốc tế. a. Cách thức đăng ký:\\n\\nThí sinh đăng ký bằng phiếu giấy tải từ website https://admission.tdtu.edu.vn. Thí sinh tiếp tục đăng ký nguyện vọng lên hệ thống Bộ GD&ĐT từ ngày 10/07 - 17h00 ngày 30/07/2023. Thí sinh đủ điểm trúng tuyển có điều kiện vào ngành học của TDTU phải tiếp tục đăng ký xét tuyển (ĐKXT) các nguyện vọng này trên Hệ thống chung của Bộ GD&ĐT. Nếu thí sinh xác định nhập học vào Trường, thí sinh đặt ngành đủ điều kiện trúng tuyển mà thí sinh muốn học ở thứ tự đầu tiên (nguyện vọng số 1). Trong trường hợp chưa xác định nhập học, thí sinh có thể quyết định đặt thứ tự ưu tiên nguyện vọng hoặc tiếp tục đăng ký thêm nguyện vọng khác để tham gia xét tuyển theo phương thức xét tuyển khác. Thí sinh tự do chưa có tài khoản đăng ký xét tuyển trên Hệ thống của Bộ GD&ĐT đăng ký cấp tài khoản bổ sung tại Sở GD&ĐT từ ngày 15/06 - 17h00 ngày 20/07/2023.')]\n"
          ]
        }
      ]
    },
    {
      "cell_type": "code",
      "execution_count": null,
      "metadata": {
        "id": "50DWCMX_NPNa"
      },
      "outputs": [],
      "source": [
        "import google.generativeai as genai\n",
        "\n",
        "class BaseRetrievalStrategy:\n",
        "     def __init__(self, llm = None):\n",
        "          self.embeddings = embedding_model\n",
        "          self.llm = llm or genai.GenerativeModel(model_name= \"gemini-1.5-flash-8b\")\n",
        "          self.classifier = QueryRouter()\n",
        "\n",
        "     def retrieve(self, query, k=3):\n",
        "          return self.db.similarity_search(query, k=k)\n",
        "\n",
        "class UniversityRetrievalStrategy(BaseRetrievalStrategy):\n",
        "\n",
        "     def retrieve(self, query: str, k = 3)-> list:\n",
        "          university = self.classifier.UniversityRouting(query).university_code\n",
        "          print(f'Truy vấn thuộc về trường: {university}')\n",
        "\n",
        "          client = QdrantClient(\n",
        "               url=os.getenv('qdrant_url2'),\n",
        "               api_key=os.getenv('qdrant_api2'),\n",
        "               prefer_grpc=False\n",
        "          )\n",
        "\n",
        "          vector_store = QdrantVectorStore(\n",
        "               client=client,\n",
        "               collection_name=str(university),\n",
        "               embedding=embedding_model\n",
        "          )\n",
        "          return vector_store.similarity_search(query, k)\n",
        "if __name__ == \"__main__\":\n",
        "\n",
        "     retriever = UniversityRetrievalStrategy()\n",
        "     query = \"Chỉ tiêu tuyển sinh TDTU 2022\"\n",
        "     docs = retriever.retrieve(query, k= 3)\n",
        "     print(docs)"
      ]
    },
    {
      "cell_type": "markdown",
      "source": [
        "## **Load from Qdrant**"
      ],
      "metadata": {
        "id": "N2RbFGdJsgxL"
      }
    },
    {
      "cell_type": "code",
      "execution_count": null,
      "metadata": {
        "id": "H1NyU8_XRCnH"
      },
      "outputs": [],
      "source": [
        "from qdrant_client import QdrantClient\n",
        "\n",
        "client = QdrantClient(\n",
        "    url=url,\n",
        "    api_key=api,\n",
        ")"
      ]
    },
    {
      "cell_type": "code",
      "execution_count": null,
      "metadata": {
        "colab": {
          "base_uri": "https://localhost:8080/"
        },
        "id": "E6GcHm4kQ3-j",
        "outputId": "c10850c7-1c1b-4402-b130-f31f3588df6b"
      },
      "outputs": [
        {
          "name": "stdout",
          "output_type": "stream",
          "text": [
            "Exported 74 documents to /content/drive/MyDrive/Data/SemanticChunks/HCMUE.xlsx\n",
            "Exported 59 documents to /content/drive/MyDrive/Data/SemanticChunks/HCMUTE.xlsx\n",
            "Exported 77 documents to /content/drive/MyDrive/Data/SemanticChunks/NTTU.xlsx\n",
            "Exported 16 documents to /content/drive/MyDrive/Data/SemanticChunks/PNTU.xlsx\n",
            "Exported 43 documents to /content/drive/MyDrive/Data/SemanticChunks/BKU.xlsx\n",
            "Exported 24 documents to /content/drive/MyDrive/Data/SemanticChunks/FTU2.xlsx\n",
            "Exported 78 documents to /content/drive/MyDrive/Data/SemanticChunks/TDTU.xlsx\n",
            "Exported 65 documents to /content/drive/MyDrive/Data/SemanticChunks/OU.xlsx\n",
            "Exported 23 documents to /content/drive/MyDrive/Data/SemanticChunks/FPT.xlsx\n",
            "Exported 27 documents to /content/drive/MyDrive/Data/SemanticChunks/HCMUS.xlsx\n",
            "Exported 47 documents to /content/drive/MyDrive/Data/SemanticChunks/UEH.xlsx\n",
            "Exported 50 documents to /content/drive/MyDrive/Data/SemanticChunks/UMP.xlsx\n",
            "Exported 28 documents to /content/drive/MyDrive/Data/SemanticChunks/UFM.xlsx\n",
            "Exported 79 documents to /content/drive/MyDrive/Data/SemanticChunks/VLU.xlsx\n",
            "Exported 47 documents to /content/drive/MyDrive/Data/SemanticChunks/UIT.xlsx\n"
          ]
        }
      ],
      "source": [
        "base_folder = \"/content/drive/MyDrive/Data/Test/Admission\"\n",
        "\n",
        "\n",
        "for folder_name in os.listdir(base_folder):\n",
        "    documents = []\n",
        "    scroll_result = client.scroll(\n",
        "        collection_name=folder_name,\n",
        "        limit= 500\n",
        "    )\n",
        "\n",
        "    for point in scroll_result[0]:\n",
        "\n",
        "        doc_entry = {\n",
        "            'id': point.id,\n",
        "            **point.payload  # Unpack all payload fields\n",
        "        }\n",
        "        documents.append(doc_entry)\n",
        "\n",
        "    df = pd.DataFrame(documents)\n",
        "    output_file = \"/content/drive/MyDrive/Data/SemanticChunks/\" + folder_name + \".xlsx\"\n",
        "    df.to_excel(output_file, index=False)\n",
        "    print(f\"Exported {len(documents)} documents to {output_file}\")\n",
        "\n"
      ]
    },
    {
      "cell_type": "markdown",
      "metadata": {
        "id": "VpdWKdHFGHTL"
      },
      "source": [
        "# **Chunking and Store with each university is a collection**"
      ]
    },
    {
      "cell_type": "code",
      "execution_count": null,
      "metadata": {
        "colab": {
          "base_uri": "https://localhost:8080/"
        },
        "id": "oE57dvGCujsj",
        "outputId": "aec2a721-57a6-45dc-fb76-d7a77a89718c"
      },
      "outputs": [
        {
          "name": "stdout",
          "output_type": "stream",
          "text": [
            "Processing folder: VLU\n",
            "/content/drive/MyDrive/Data/Test/Admission/VLU/VLU.xlsx\n",
            "Uploaded documents to Qdrant collection: VLU\n"
          ]
        }
      ],
      "source": [
        "base_folder = \"/content/drive/MyDrive/Data/Test/Admission\"\n",
        "\n",
        "\n",
        "for folder_name in os.listdir(base_folder):\n",
        "    all_documents = []\n",
        "    folder_path = os.path.join(base_folder, folder_name)\n",
        "    if os.path.isdir(folder_path):\n",
        "        print(f\"Processing folder: {folder_name}\")\n",
        "        filename = folder_name + \".xlsx\"\n",
        "        file_path = os.path.join(folder_path, filename)\n",
        "        print(file_path)\n",
        "        df = pd.read_excel(file_path)\n",
        "\n",
        "        for _, row in df.iterrows():\n",
        "            doc = Document(\n",
        "                page_content=row['text'],\n",
        "                metadata={'source': row['file name']}\n",
        "            )\n",
        "            all_documents.append(doc)\n",
        "        vector_store = Qdrant.from_documents(\n",
        "          documents=all_documents,\n",
        "          embedding=embedding_model,\n",
        "          url=\"https://1390ac05-4421-4fc6-8798-05032e7abad2.us-east4-0.gcp.cloud.qdrant.io:6333\",\n",
        "          api_key=\"02n1zyvj8zLx0xaAPk-_pbVSVIq4sFXVUbfMWzl3mCHJdkpTHMn3Cw\",\n",
        "          prefer_grpc=False,\n",
        "          collection_name=folder_name,\n",
        "        )\n",
        "    print(f\"Uploaded documents to Qdrant collection: {folder_name}\")\n",
        "\n"
      ]
    },
    {
      "cell_type": "code",
      "execution_count": null,
      "metadata": {
        "id": "C0tBg2KmTrPp"
      },
      "outputs": [],
      "source": [
        "client = QdrantClient(\n",
        "              url=\"https://1390ac05-4421-4fc6-8798-05032e7abad2.us-east4-0.gcp.cloud.qdrant.io:6333\",\n",
        "              api_key=\"02n1zyvj8zLx0xaAPk-_pbVSVIq4sFXVUbfMWzl3mCHJdkpTHMn3Cw\",\n",
        "               prefer_grpc=True\n",
        "          )\n",
        "\n",
        "vector_store = QdrantVectorStore(\n",
        "               client=client,\n",
        "               collection_name=\"VLU\",\n",
        "               embedding=embedding_model\n",
        "          )"
      ]
    },
    {
      "cell_type": "code",
      "execution_count": null,
      "metadata": {
        "colab": {
          "base_uri": "https://localhost:8080/"
        },
        "id": "wf4PBtYPfQUz",
        "outputId": "c33174b1-080a-45a9-eb4f-d15c5cc3531f"
      },
      "outputs": [
        {
          "name": "stdout",
          "output_type": "stream",
          "text": [
            "[Document(metadata={'source': 'Giới thiệu chung DH Văn Lang.txt', '_id': '0adb0fbc-b0aa-4557-9348-05ed15eb2325', '_collection_name': 'VLU'}, page_content='20. Điều dưỡng\\nĐiều dưỡng có vai trò quan trọng trong hệ thống y tế, thực hiện chăm sóc trực tiếp cho người bệnh tại bệnh viện và cộng đồng, đồng thời phối hợp với các nghề khác để cung cấp dịch vụ chăm sóc sức khỏe toàn diện.\\na. Mã ngành:\\n7720301\\nb. Văn bằng:\\nCử nhân Điều dưỡng\\nc. Tổ hợp môn:\\n•\\tB00: Toán – Hóa – Sinh\\n•\\tC08: Văn – Hóa – Sinh\\n•\\tD07: Toán – Hóa – Anh\\n•\\tD08: Toán – Sinh – Anh\\nd. Thời gian đào tạo:\\n3,5 - 4 năm\\n\\n21. Đông Phương học (Hàn Quốc học, Nhật Bản học, Trung Quốc học)\\nNgành Đông Phương học cung cấp kiến thức chuyên sâu và toàn diện về các quốc gia khu vực Đông Á như Hàn Quốc, Trung Quốc và Nhật Bản, giúp sinh viên có khả năng làm việc trong các tổ chức quốc tế, doanh nghiệp, và nhiều lĩnh vực khác như ngoại giao, du lịch, giáo dục, truyền thông.\\na. Mã ngành:\\n7310608\\nb. Văn bằng:\\nCử nhân Đông Phương học\\nc. Tổ hợp môn:\\n•\\tA01: Toán – Lý – Tiếng Anh\\n•\\tC00: Văn – Sử – Địa\\n•\\tD01: Toán – Văn – Tiếng Anh\\n•\\tD04: Toán – Văn – Tiếng Trung\\nd. Thời gian đào tạo:\\n3.5 – 4 năm\\n\\n22. Du lịch\\nNgành Du lịch trang bị cho sinh viên kiến thức về ngành du lịch qua các hoạt động trải nghiệm, phát triển bền vững và trách nhiệm với cộng đồng. Chương trình giúp sinh viên phát triển các kỹ năng chuyên môn, tư duy phản biện, sáng tạo, và khả năng thích ứng với sự thay đổi trong nghề nghiệp.\\na. Mã ngành:\\n7810101\\nb. Văn bằng:\\nCử nhân Du lịch\\nc. Tổ hợp môn:\\n•\\tA00: Toán – Lý – Hóa\\n•\\tA01: Toán – Lý – Anh\\n•\\tD01: Toán – Văn – Anh\\n•\\tC00: Ngữ Văn – Địa Lý – Lịch sử\\nd. Thời gian đào tạo:\\n4 năm\\n\\n23. Dược học\\nNgành Dược là sự kết hợp giữa khoa học kỹ thuật và kinh tế, có vai trò quan trọng trong việc chăm sóc sức khỏe cộng đồng và đảm bảo an sinh xã hội. Sinh viên ngành Dược sẽ học về sản xuất, phân phối, quản lý thuốc và phối hợp với bác sĩ trong công tác phân phối thuốc, chữa bệnh, cũng như hướng dẫn sử dụng thuốc đúng cách.\\na. Mã ngành:\\n7720201\\nb. Văn bằng:\\nDược sĩ\\nc. Tổ hợp môn:\\n•\\tA00: Toán – Lý – Hóa\\n•\\tB00: Toán – Hóa – Sinh\\n•\\tD07: Toán – Hóa – Anh\\nd. Thời gian đào tạo:\\n5 năm'), Document(metadata={'source': 'Đề án tuyển sinh VLU 2021.txt', '_id': 'd95cee6a-58c6-415d-ae10-e335e2477eb5', '_collection_name': 'VLU'}, page_content='Ngưỡng đảm bảo chất lượng đầu vào, điều kiện nhận hồ sơ Đăng kí xét tuyển\\na. Đối với phương thức xét tuyển dựa vào điểm thi tốt nghiệp THPT 2021:\\n- Các ngành thuộc khối ngành sức khỏe: Dược học, Điều dưỡng, Kỹ thuật Xét nghiệm Y học, Răng – Hàm – Mặt: theo quy định của Bộ GD&ĐT. \\n- Các ngành còn lại: sẽ được công bố trên cổng thông tin điện tử của Trường theo lộ trình tuyển sinh năm 2021.  \\n- Sử dụng Chứng chỉ ngoại ngữ quốc tế: Đối với các ngành xét tuyển có sử dụng tổ hợp môn thi có môn ngoại ngữ, nếu thí sinh có chứng chỉ IELTS từ 5.5 trở lên hoặc các chứng chỉ quốc tế tương đương (02 năm kể từ ngày dự thi) và tổng điểm 2 môn còn lại trong tổ hợp xét tuyển đạt tối thiểu 12 điểm  thì được chuyển điểm theo bảng điểm quy đổi.\\nb. Đối với phương thức: xét tuyển dựa vào kết quả học tập THPT (học bạ):  \\n- Các khối ngành sức khỏe: Dược học, Răng – Hàm – Mặt, Điều dưỡng, Kỹ thuật Xét nghiệm Y học: theo quy định của Bộ GD&ĐT. \\n- Các ngành còn lại: tổng điểm của tổ hợp môn xét tuyển đạt từ 18,00 điểm trở lên (không có môn nào trong tổ hợp xét tuyển điểm dưới 1). Riêng ngành Ngôn ngữ Anh, điểm trung bình chung môn Tiếng Anh đạt từ 6,00 điểm trở lên.\\n- Sử dụng Chứng chỉ ngoại ngữ quốc tế: Đối với các ngành xét tuyển có sử dụng tổ hợp môn thi có môn ngoại ngữ, nếu thí sinh có chứng chỉ IELTS từ 5.5 trở lên hoặc các chứng chỉ quốc tế tương đương (02 năm kể từ ngày dự thi) và tổng điểm 2 môn còn lại trong tổ hợp xét tuyển đạt tối thiểu 12 điểm thì được chuyển điểm theo bảng điểm quy đổi.'), Document(metadata={'source': 'Đề án tuyển sinh VLU 2024.txt', '_id': 'fe194a6e-33ef-4315-8b95-5743322c9346', '_collection_name': 'VLU'}, page_content='Phương thức xét tuyển năm 2024\\n2. Điểm học bạ\\nXét tuyển dựa vào kết quả học tập cấp THPT (học bạ)\\n- Các ngành thuộc khối ngành sức khỏe: theo quy định của Bộ GD&ĐT:\\n+ Các ngành Y khoa, Dược học, Răng - Hàm - Mặt: tổng điểm của tổ hợp môn xét tuyển đạt từ 24,00 điểm trở lên, đồng thời xếp loại học lực lớp 12 đạt loại giỏi hoặc điểm xét tốt nghiệp THPT năm 2024 từ 8,0 điểm trở lên\\n+  Các ngành Điều dưỡng và Kỹ thuật Xét nghiệm Y học: tổng điểm tổ hợp môn xét tuyển đạt từ 19,50 điểm trở lên, đồng thời xếp loại học lực lớp 12 đạt từ loại khá trở lên hoặc điểm xét tốt nghiệp THPT năm 2024 từ 6,5 điểm trở lên.\\n- Các ngành còn lại: tổng điểm của tổ hợp môn xét tuyển đạt từ 18,00 điểm trở lên (không có môn nào trong tổ hợp xét tuyển điểm dưới 1,0). Riêng ngành Ngôn ngữ Anh, điểm trung bình chung môn Tiếng Anh đạt từ 6,00 điểm trở lên')]\n"
          ]
        }
      ],
      "source": [
        "query = \"Mã ngành Điều dưỡng \"\n",
        "print(vector_store.similarity_search(query, 3))"
      ]
    }
  ],
  "metadata": {
    "colab": {
      "provenance": []
    },
    "kernelspec": {
      "display_name": "Python 3",
      "name": "python3"
    },
    "language_info": {
      "name": "python"
    }
  },
  "nbformat": 4,
  "nbformat_minor": 0
}